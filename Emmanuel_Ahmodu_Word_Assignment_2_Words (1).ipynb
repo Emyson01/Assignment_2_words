{
  "cells": [
    {
      "cell_type": "markdown",
      "metadata": {
        "id": "sb0stjJ5DXYv"
      },
      "source": [
        "# Assignment 2 - Words"
      ]
    },
    {
      "cell_type": "markdown",
      "metadata": {
        "id": "Gdan5z6jDXZG"
      },
      "source": [
        "In this assignment **you** will search for words based on predefined criteria.\n",
        "\n",
        "For instance, which words does not include any vowels or the letters of which words are in alphabetical order...\n",
        "\n",
        "The words are from **Lorem Ipsum**.\n",
        "\n",
        "Lorem Ipsum is simply dummy text of the printing and typesetting industry. \n",
        "\n",
        "https://www.lipsum.com/"
      ]
    },
    {
      "cell_type": "markdown",
      "metadata": {
        "id": "CZ-TjP1gDXZK"
      },
      "source": [
        "Complete the code with respect to **#TODO** statements."
      ]
    },
    {
      "cell_type": "markdown",
      "metadata": {
        "id": "SAl4F6eUDXZN"
      },
      "source": [
        "**Preparation:**\n",
        "\n",
        "To read the words:\n",
        "\n",
        "* open() function\n",
        "    * open(file, mode)\n",
        "    * mode:\n",
        "        * r: read (default)\n",
        "        * a: append\n",
        "        * w: write\n",
        "        * x: create"
      ]
    },
    {
      "cell_type": "code",
      "execution_count": null,
      "metadata": {
        "id": "FBbW0ACEDXZQ"
      },
      "outputs": [],
      "source": [
        "# open()\n",
        "\n",
        "file = open('words.txt')"
      ]
    },
    {
      "cell_type": "code",
      "execution_count": null,
      "metadata": {
        "id": "iN0il84EDXZX",
        "outputId": "9237d9b2-6408-4da4-c151-ecba4b384997",
        "colab": {
          "base_uri": "https://localhost:8080/",
          "height": 35
        }
      },
      "outputs": [
        {
          "output_type": "execute_result",
          "data": {
            "text/plain": [
              "'Lorem\\n'"
            ],
            "application/vnd.google.colaboratory.intrinsic+json": {
              "type": "string"
            }
          },
          "metadata": {},
          "execution_count": 136
        }
      ],
      "source": [
        "# let's read the line\n",
        "\n",
        "file.readline()"
      ]
    },
    {
      "cell_type": "code",
      "execution_count": null,
      "metadata": {
        "id": "YfC-HiNEDXZc",
        "outputId": "aff1768c-b1bb-422b-824b-9360c8331d61",
        "colab": {
          "base_uri": "https://localhost:8080/",
          "height": 35
        }
      },
      "outputs": [
        {
          "output_type": "execute_result",
          "data": {
            "text/plain": [
              "'ipsum\\n'"
            ],
            "application/vnd.google.colaboratory.intrinsic+json": {
              "type": "string"
            }
          },
          "metadata": {},
          "execution_count": 137
        }
      ],
      "source": [
        "# let's read the second line\n",
        "\n",
        "file.readline()"
      ]
    },
    {
      "cell_type": "markdown",
      "metadata": {
        "id": "NXR8ezRnDXZf"
      },
      "source": [
        "**Special Chars:**\n",
        "* \\n : new line character\n",
        "* \\r : carriage return (enter)"
      ]
    },
    {
      "cell_type": "code",
      "execution_count": null,
      "metadata": {
        "id": "ytj5t3XdDXZj",
        "outputId": "fd1f1eea-4ea2-4445-b43f-da2832c458e2",
        "colab": {
          "base_uri": "https://localhost:8080/",
          "height": 35
        }
      },
      "outputs": [
        {
          "output_type": "execute_result",
          "data": {
            "text/plain": [
              "'dolor\\n'"
            ],
            "application/vnd.google.colaboratory.intrinsic+json": {
              "type": "string"
            }
          },
          "metadata": {},
          "execution_count": 138
        }
      ],
      "source": [
        "# run readline\n",
        "\n",
        "line = file.readline()\n",
        "line"
      ]
    },
    {
      "cell_type": "code",
      "execution_count": null,
      "metadata": {
        "collapsed": true,
        "jupyter": {
          "outputs_hidden": true
        },
        "id": "WS7facntDXZn",
        "colab": {
          "base_uri": "https://localhost:8080/"
        },
        "outputId": "0516b487-763e-4d55-fc72-f991318e4eef"
      },
      "outputs": [
        {
          "output_type": "stream",
          "name": "stdout",
          "text": [
            "Lorem\n",
            "\n",
            "ipsum\n",
            "\n",
            "dolor\n",
            "\n",
            "sit\n",
            "\n",
            "amet\n",
            "\n",
            "consectetur\n",
            "\n",
            "adipiscing\n",
            "\n",
            "elit\n",
            "\n",
            "Nulla\n",
            "\n",
            "sodales\n",
            "\n",
            "orci\n",
            "\n",
            "sed\n",
            "\n",
            "nisl\n",
            "\n",
            "tempor\n",
            "\n",
            "tristique\n",
            "\n",
            "Donec\n",
            "\n",
            "commodo\n",
            "\n",
            "non\n",
            "\n",
            "leo\n",
            "\n",
            "quis\n",
            "\n",
            "fermentum\n",
            "\n"
          ]
        }
      ],
      "source": [
        "# print the first 20 lines\n",
        "\n",
        "file = open('words.txt')\n",
        "\n",
        "# we need index -> enumerate\n",
        "\n",
        "for index, line in enumerate(file):\n",
        "    \n",
        "    if index <= 20:\n",
        "        print(line)\n",
        "    "
      ]
    },
    {
      "cell_type": "code",
      "execution_count": null,
      "metadata": {
        "id": "x4ptaWF3DXZu",
        "colab": {
          "base_uri": "https://localhost:8080/"
        },
        "outputId": "200ca33c-0755-4f0a-b884-d89f6bcc518c"
      },
      "outputs": [
        {
          "output_type": "stream",
          "name": "stdout",
          "text": [
            "['Lorem']\n",
            "['ipsum']\n",
            "['dolor']\n",
            "['sit']\n",
            "['amet']\n",
            "['consectetur']\n",
            "['adipiscing']\n",
            "['elit']\n",
            "['Nulla']\n",
            "['sodales']\n",
            "['orci']\n",
            "['sed']\n",
            "['nisl']\n",
            "['tempor']\n",
            "['tristique']\n",
            "['Donec']\n",
            "['commodo']\n",
            "['non']\n",
            "['leo']\n",
            "['quis']\n",
            "['fermentum']\n"
          ]
        }
      ],
      "source": [
        "# remove new line\n",
        "\n",
        "file = open('words.txt')\n",
        "\n",
        "for index, line in enumerate(file):\n",
        "    \n",
        "    if index <= 20:\n",
        "        \n",
        "        # split() -> splits the text from space chars (space, \\n new line, carriage return)\n",
        "        word_list = line.split()\n",
        "        print(word_list)\n"
      ]
    },
    {
      "cell_type": "markdown",
      "source": [
        "file = open('/content/words.txt')\n",
        "for line in file:\n",
        "  word_list = line.split()\n",
        "  word = word_list[0]\n",
        "  if len(word)> 10:\n",
        "    print(word)"
      ],
      "metadata": {
        "id": "VDsmDJlUY82G"
      }
    },
    {
      "cell_type": "markdown",
      "metadata": {
        "id": "ElCxky3kDXZx"
      },
      "source": [
        "**Exercise 1:**\n",
        "\n",
        "We will print the words which have number of letters more than 10."
      ]
    },
    {
      "cell_type": "code",
      "execution_count": null,
      "metadata": {
        "id": "uJphKNSyDXZz",
        "outputId": "1a3c8967-e227-4224-ae9c-4d3584eb5243",
        "colab": {
          "base_uri": "https://localhost:8080/"
        }
      },
      "outputs": [
        {
          "output_type": "stream",
          "name": "stdout",
          "text": [
            "consectetur\n",
            "pellentesque\n",
            "sollicitudin\n",
            "scelerisque\n",
            "ullamcorper\n",
            "condimentum\n",
            "Suspendisse\n"
          ]
        }
      ],
      "source": [
        "\n",
        "\n",
        "file = open('/content/words.txt')# read the file\n",
        "for line in file:   # TODO - Read the words into a file\n",
        "     \n",
        "    # split() -> \\n\n",
        "  \n",
        "    word_list = line.split() # TODO - split the line\n",
        "    \n",
        "    # word is the first element in list\n",
        "    word = word_list[0] # TODO - get the first element of list\n",
        "    \n",
        "    # check number of letters\n",
        "    if len(word)> 10:\n",
        "        print(word)\n",
        "\n",
        "\n",
        "    # TODO - check if the length of the letter is greater than 10\n",
        "    "
      ]
    },
    {
      "cell_type": "markdown",
      "metadata": {
        "id": "hESW7tmTDXZ4"
      },
      "source": [
        "**Exercise 2:**\n",
        "\n",
        "Define a new function.\n",
        "\n",
        "This function will search for the words which have no vowels in it. (a, e, i, o, u)"
      ]
    },
    {
      "cell_type": "code",
      "execution_count": null,
      "metadata": {
        "id": "1Oc4dxBTDXZ9",
        "colab": {
          "base_uri": "https://localhost:8080/"
        },
        "outputId": "c61f7a10-bfe9-4a16-bac7-ef405d121697"
      },
      "outputs": [
        {
          "output_type": "stream",
          "name": "stdout",
          "text": [
            "In\n",
            "trylyk\n",
            "Antryl\n"
          ]
        }
      ],
      "source": [
        "\n",
        "def check_for_vowels():\n",
        "    \n",
        "  # read the file\n",
        "  # TODO - Read the words into a file\n",
        "  file = open('/content/words.txt')\n",
        "  for line in file:\n",
        "      \n",
        "    # split() -> \\n\n",
        "    word_list = line.split() # TODO - split the line\n",
        "\n",
        "    # word is the first element in list\n",
        "    word = word_list[0]\n",
        "    \n",
        "    # check if included vowel\n",
        "    # TODO - check if the word not in vowels\n",
        "    if not 'a' in word and \\\n",
        "       not 'e' in word and \\\n",
        "       not 'i' in word and \\\n",
        "       not 'o' in word and \\\n",
        "       not 'u' in word:\n",
        "        print(word)        \n",
        "            \n",
        "check_for_vowels()\n"
      ]
    },
    {
      "cell_type": "code",
      "execution_count": null,
      "metadata": {
        "id": "dPqEZxXlDXZ_",
        "outputId": "bac33e28-6833-44d8-a26c-0cf5c598fe82",
        "colab": {
          "base_uri": "https://localhost:8080/"
        }
      },
      "outputs": [
        {
          "output_type": "stream",
          "name": "stdout",
          "text": [
            "In\n",
            "trylyk\n",
            "Antryl\n"
          ]
        }
      ],
      "source": [
        "check_for_vowels()"
      ]
    },
    {
      "cell_type": "code",
      "execution_count": null,
      "metadata": {
        "id": "G3_fFvBMDXaB"
      },
      "outputs": [],
      "source": [
        "def check_for_vowels():\n",
        "\n",
        "  # read the file\n",
        "  # TODO - Read the words into a file\n",
        "  file = open('/content/words.txt')\n",
        "  for line in file:\n",
        "            \n",
        "        # split() -> \\n\n",
        "        # TODO - split the line\n",
        "    word_list = line.split() # TODO - split the line\n",
        "\n",
        "        # word is the first element in list\n",
        "        # TODO - get the first element of list\n",
        "    word = word_list[0]\n",
        "       \n",
        "        # convert into lower case\n",
        "        # TODO - convert the word into lower case\n",
        "    word = word.lower()\n",
        "        # check if included vowel\n",
        "        # TODO - check if the word not in vowels\n",
        "    if not 'a' in word and \\\n",
        "       not 'e' in word and \\\n",
        "       not 'i' in word and \\\n",
        "       not 'o' in word and \\\n",
        "       not 'u' in word:\n",
        "        print(word) \n",
        "            "
      ]
    },
    {
      "cell_type": "code",
      "execution_count": null,
      "metadata": {
        "id": "xyCScLW1DXaD",
        "outputId": "e85b325d-61f9-4906-90f5-483939ba7a0c",
        "colab": {
          "base_uri": "https://localhost:8080/"
        }
      },
      "outputs": [
        {
          "output_type": "stream",
          "name": "stdout",
          "text": [
            "trylyk\n"
          ]
        }
      ],
      "source": [
        "check_for_vowels()"
      ]
    },
    {
      "cell_type": "markdown",
      "metadata": {
        "id": "nZJSLCVFDXaF"
      },
      "source": [
        "Check for words which includes 'ae' together and in this order. "
      ]
    },
    {
      "cell_type": "code",
      "execution_count": null,
      "metadata": {
        "id": "WiA2rWJUDXaH"
      },
      "outputs": [],
      "source": [
        "def check_for_ae():\n",
        "    \n",
        "    # read the file\n",
        "    # TODO - Read the words into a file\n",
        "  file = open('/content/words.txt')  \n",
        "  for line in file:\n",
        "\n",
        "        # split() -> \\n\n",
        "        # TODO - split the line\n",
        "    word_list = line.split()\n",
        "        # word is the first element in list\n",
        "        # TODO - get the first element of list\n",
        "    word = word_list[0]      \n",
        "        # convert into lower case\n",
        "        # TODO - convert the word into lower case\n",
        "    word = word.lower()\n",
        "        # check if included vowel\n",
        "        # TODO - check if 'ae' is in the word\n",
        "  if 'ae' in word:\n",
        "    print(word)"
      ]
    },
    {
      "cell_type": "code",
      "execution_count": null,
      "metadata": {
        "id": "C34iQTzoDXaK"
      },
      "outputs": [],
      "source": [
        "check_for_ae()"
      ]
    },
    {
      "cell_type": "markdown",
      "metadata": {
        "id": "zPbHdTOfDXaM"
      },
      "source": [
        "**Exercise 3:**\n",
        "\n",
        "We will define a function **is_any_forbidden_letter**.\n",
        "\n",
        "It will take letters which are forbidden and a text.\n",
        "\n",
        "It will check if this text included any of these forbidden letters.\n",
        "\n",
        "bool function -> True, False"
      ]
    },
    {
      "cell_type": "code",
      "execution_count": null,
      "metadata": {
        "id": "ORZaPAlbDXaN"
      },
      "outputs": [],
      "source": [
        "def is_any_forbidden_letter(text, forbidden_letters):\n",
        "    \n",
        "    for letter in text:\n",
        "\n",
        "        # TODO - check if letter in forbidden letters\n",
        "        # TODO - return true\n",
        "      if letter in forbidden_letters:\n",
        "        return True\n",
        "    else:\n",
        "        # TODO - return false\n",
        "        return False\n",
        "\n",
        "\n",
        "        \n",
        "    "
      ]
    },
    {
      "cell_type": "code",
      "execution_count": null,
      "metadata": {
        "id": "_qQlVNjyDXaP",
        "outputId": "95be573e-1f48-4b71-86f1-03f955e7a271",
        "colab": {
          "base_uri": "https://localhost:8080/"
        }
      },
      "outputs": [
        {
          "output_type": "execute_result",
          "data": {
            "text/plain": [
              "True"
            ]
          },
          "metadata": {},
          "execution_count": 149
        }
      ],
      "source": [
        "sentence = 'This is a forbidden sentence.'\n",
        "forbidden_letters = 'ae'\n",
        "\n",
        "is_any_forbidden_letter(sentence, forbidden_letters)"
      ]
    },
    {
      "cell_type": "code",
      "execution_count": null,
      "metadata": {
        "id": "iH2ahVeIDXaR",
        "outputId": "c007edf6-af24-4232-b021-1bbc17090cd4",
        "colab": {
          "base_uri": "https://localhost:8080/"
        }
      },
      "outputs": [
        {
          "output_type": "execute_result",
          "data": {
            "text/plain": [
              "False"
            ]
          },
          "metadata": {},
          "execution_count": 150
        }
      ],
      "source": [
        "sentence = 'This is a forbidden sentence.'\n",
        "forbidden_letters = 'xy'\n",
        "\n",
        "is_any_forbidden_letter(sentence, forbidden_letters)"
      ]
    },
    {
      "cell_type": "markdown",
      "metadata": {
        "id": "6lrIkiIpDXaT"
      },
      "source": [
        "**Exercise 4:**\n",
        "\n",
        "Define a function named **only_uses_these_letters**\n",
        "\n",
        "It will take letters and a text.\n",
        "\n",
        "It will check if this text uses only these letters.\n",
        "\n",
        "It the text uses only these letters -> True\n",
        "\n",
        "bool function -> True, False"
      ]
    },
    {
      "cell_type": "code",
      "execution_count": null,
      "metadata": {
        "id": "jOoBTGbHDXaU"
      },
      "outputs": [],
      "source": [
        "def only_uses_these_letters(text, letters):\n",
        "    \n",
        "    for char in text:\n",
        "        # if the char in letters or not\n",
        "        # check if char is an alphabetical letter -> isalpha()\n",
        "        # TODO - check if char is alphabetical letter and it is not in letters\n",
        "      if char.isalpha() and not char in letters:\n",
        "        # TODO - return false\n",
        "        return False\n",
        "    else:\n",
        "        # TODO - return true\n",
        "        return True   "
      ]
    },
    {
      "cell_type": "code",
      "execution_count": null,
      "metadata": {
        "id": "mzTkGwxEDXaV",
        "outputId": "5d30334a-a8d7-41b3-c048-c424a8df114e",
        "colab": {
          "base_uri": "https://localhost:8080/"
        }
      },
      "outputs": [
        {
          "output_type": "execute_result",
          "data": {
            "text/plain": [
              "True"
            ]
          },
          "metadata": {},
          "execution_count": 152
        }
      ],
      "source": [
        "sentence = 'check'\n",
        "letters = 'chek'\n",
        "\n",
        "only_uses_these_letters(sentence, letters)"
      ]
    },
    {
      "cell_type": "code",
      "execution_count": null,
      "metadata": {
        "id": "lRL4PNQqDXad",
        "outputId": "c5841351-b325-4d8e-a32c-fa6a5b51a0a0",
        "colab": {
          "base_uri": "https://localhost:8080/"
        }
      },
      "outputs": [
        {
          "output_type": "execute_result",
          "data": {
            "text/plain": [
              "False"
            ]
          },
          "metadata": {},
          "execution_count": 153
        }
      ],
      "source": [
        "sentence = 'check this'\n",
        "letters = 'chek'\n",
        "\n",
        "only_uses_these_letters(sentence, letters)"
      ]
    },
    {
      "cell_type": "markdown",
      "metadata": {
        "id": "H40L6JVlDXaf"
      },
      "source": [
        "**Exercise 5:**\n",
        "\n",
        "use the function E4, check for Lorem words using only 'ens' letters."
      ]
    },
    {
      "cell_type": "code",
      "execution_count": null,
      "metadata": {
        "id": "OdG4oFrLDXag"
      },
      "outputs": [],
      "source": [
        "def only_uses_these_letters_lorem(letters):\n",
        "    \n",
        "    # read the file\n",
        "    # TODO - Read the words into a file\n",
        "    file = open('/content/words.txt')\n",
        "    for line in file:\n",
        "        \n",
        "        # split() -> \\n\n",
        "        # TODO - split the line\n",
        "      word_list = line.split()\n",
        "\n",
        "        # word is the first element in list\n",
        "        # TODO - get the first element of list\n",
        "      word = word_list[0]\n",
        "        # convert into lower case\n",
        "        # TODO - convert the word into lower case\n",
        "      word = word.lower()  \n",
        "        # TODO - check if the word only uses these letters\n",
        "      if only_uses_these_letters(word, letters):\n",
        "        print(word)\n",
        "\n",
        "  "
      ]
    },
    {
      "cell_type": "code",
      "execution_count": null,
      "metadata": {
        "id": "npLjQz7CDXah",
        "outputId": "2e82ced5-dcf3-47d6-c125-25d6d0108f5d",
        "colab": {
          "base_uri": "https://localhost:8080/"
        }
      },
      "outputs": [
        {
          "output_type": "stream",
          "name": "stdout",
          "text": [
            "sesse\n",
            "nesnes\n",
            "senesses\n"
          ]
        }
      ],
      "source": [
        "letters = 'ens'\n",
        "only_uses_these_letters_lorem(letters)"
      ]
    },
    {
      "cell_type": "markdown",
      "metadata": {
        "id": "JFoBxQi2DXai"
      },
      "source": [
        "**Exercise 6:**\n",
        "\n",
        "Define a function named **uses_all**.\n",
        "\n",
        "It will take a text and letters.\n",
        "\n",
        "If the text uses all the letter at least once, it will return True."
      ]
    },
    {
      "cell_type": "code",
      "execution_count": null,
      "metadata": {
        "id": "tx7UgL88DXaj"
      },
      "outputs": [],
      "source": [
        "\n",
        "def uses_all(text, letters):\n",
        "    \n",
        "    it_uses_all = True\n",
        "    \n",
        "    for letter in letters:\n",
        "        # if letter is not text -> text is not using this letter\n",
        "        # TODO - check if letter is not in text\n",
        "      file = open('/content/words.txt')\n",
        "      if not letters in text:\n",
        "        # TODO - assign false to it_uses_all\n",
        "        it_uses_all = False\n",
        "    \n",
        "    # loop finishes\n",
        "    # TODO - return it_uses_all\n",
        "    return it_uses_all\n"
      ]
    },
    {
      "cell_type": "code",
      "execution_count": null,
      "metadata": {
        "id": "xET4WaLGDXal",
        "outputId": "8cbb0563-70dc-419b-c190-192ef879b708",
        "colab": {
          "base_uri": "https://localhost:8080/"
        }
      },
      "outputs": [
        {
          "output_type": "execute_result",
          "data": {
            "text/plain": [
              "False"
            ]
          },
          "metadata": {},
          "execution_count": 157
        }
      ],
      "source": [
        "letters = 'abd'\n",
        "\n",
        "text = 'This is a bold sentence.'\n",
        "\n",
        "uses_all(text, letters)"
      ]
    },
    {
      "cell_type": "code",
      "execution_count": null,
      "metadata": {
        "id": "UDul-aMGDXam",
        "outputId": "233a2f16-2c3b-4b64-81b6-3033a3c81450",
        "colab": {
          "base_uri": "https://localhost:8080/"
        }
      },
      "outputs": [
        {
          "output_type": "execute_result",
          "data": {
            "text/plain": [
              "False"
            ]
          },
          "metadata": {},
          "execution_count": 158
        }
      ],
      "source": [
        "letters = 'abcd'\n",
        "\n",
        "text = 'This is a bold sentence.'\n",
        "\n",
        "uses_all(text, letters)"
      ]
    },
    {
      "cell_type": "code",
      "execution_count": null,
      "metadata": {
        "id": "HhaoAa0CDXao",
        "outputId": "b1310cb5-774c-4fae-fa8e-c1d126375a04",
        "colab": {
          "base_uri": "https://localhost:8080/"
        }
      },
      "outputs": [
        {
          "output_type": "execute_result",
          "data": {
            "text/plain": [
              "False"
            ]
          },
          "metadata": {},
          "execution_count": 172
        }
      ],
      "source": [
        "letters = 'abdf'\n",
        "\n",
        "text = 'This is a bold sentence.'\n",
        "\n",
        "uses_all(text, letters)"
      ]
    },
    {
      "cell_type": "markdown",
      "metadata": {
        "id": "HLlTR_3CDXaq"
      },
      "source": [
        "**Exercise 7:**\n",
        "\n",
        "Use the function E6 and for Lorem letters check:\n",
        "\n",
        "The words using all the letters in 'aei'."
      ]
    },
    {
      "cell_type": "code",
      "execution_count": null,
      "metadata": {
        "id": "-_Mipf66DXav"
      },
      "outputs": [],
      "source": [
        "def uses_all_lorem(letters):\n",
        "    \n",
        "    # read the file\n",
        "    # TODO - Read the words into a file\n",
        "    file = open('/content/words.txt')\n",
        "    for line in file:\n",
        "        \n",
        "        # split() -> \\n\n",
        "        # TODO - split the line\n",
        "      word_list = line.split()\n",
        "\n",
        "        # word is the first element in list\n",
        "        # TODO - get the first element of list\n",
        "      word = word_list[0]  \n",
        "        # convert into lower case\n",
        "        # TODO - convert the word into lower case\n",
        "      word = word.lower()  \n",
        "        # TODO - check if the word uses all the letters\n",
        "      if uses_all(word, letters):\n",
        "        print(word)   \n",
        "    "
      ]
    },
    {
      "cell_type": "code",
      "execution_count": null,
      "metadata": {
        "id": "57ZyRxyuDXaw"
      },
      "outputs": [],
      "source": [
        "letters = 'aei'\n",
        "uses_all_lorem(letters)"
      ]
    },
    {
      "cell_type": "markdown",
      "metadata": {
        "id": "6bxJTbHVDXax"
      },
      "source": [
        "**Exercise 8:**\n",
        "\n",
        "Use funtions from:\n",
        "* E4\n",
        "* E6\n",
        "\n",
        "To find the Lorem words which uses only `fir` letters and use them all.\n",
        "\n",
        "The function name will be **only_uses_all**."
      ]
    },
    {
      "cell_type": "code",
      "execution_count": 186,
      "metadata": {
        "id": "bqdDeMEjDXay"
      },
      "outputs": [],
      "source": [
        "\n",
        "def only_uses_all(letters):\n",
        "    \n",
        "    # read the file\n",
        "    # TODO - Read the words into a file\n",
        "    file = open('/content/words.txt')\n",
        "    for line in file:\n",
        "        \n",
        "        # split() -> \\n\n",
        "        # TODO - split the line\n",
        "      word_list = line.split()\n",
        "\n",
        "        # word is the first element in list\n",
        "        # TODO - get the first element of list\n",
        "      word = word_list[0]  \n",
        "        # convert into lower case\n",
        "        # TODO - convert the word into lower case\n",
        "      word = word.lower() \n",
        "        # TODO - check if the word uses only these letters and uses them all\n",
        "      if only_uses_these_letters and uses_all(word, letters):\n",
        "        print(word) \n",
        "    "
      ]
    },
    {
      "cell_type": "code",
      "execution_count": 187,
      "metadata": {
        "id": "OW43q4NrDXa0",
        "outputId": "da669390-d3d1-470d-828a-02268a3eba94",
        "colab": {
          "base_uri": "https://localhost:8080/"
        }
      },
      "outputs": [
        {
          "output_type": "stream",
          "name": "stdout",
          "text": [
            "frifirri\n"
          ]
        }
      ],
      "source": [
        "letters = 'fir'\n",
        "\n",
        "only_uses_all(letters)"
      ]
    },
    {
      "cell_type": "markdown",
      "metadata": {
        "id": "-xmgqGxDDXa1"
      },
      "source": [
        "**Exercise 9:**\n",
        "\n",
        "**ordered_word**: if the letters in a word is in alphabetical order.\n",
        "\n",
        "Define a function named **is_ordered_word**.\n",
        "\n",
        "It will take a string parameter as text.\n",
        "\n",
        "It will return True if it is an ordered word.\n",
        "\n",
        "Ex: abc, agor, def"
      ]
    },
    {
      "cell_type": "code",
      "execution_count": 248,
      "metadata": {
        "id": "63szEBkkDXa2"
      },
      "outputs": [],
      "source": [
        "def is_ordered_word(word):\n",
        "    \n",
        "    # previous letter is the first letter in word\n",
        "    prev = word[0]  # TODO - assign the first letter in word to prev\n",
        "    \n",
        "    for letter in word:\n",
        "              \n",
        "        # check if prev is smaller\n",
        "        # TODO - check if the letter is smaller than prev\n",
        "      if letter < prev:\n",
        "        # TODO - return false\n",
        "        return False\n",
        "        # reassign the previous as the current letter\n",
        "        prev = letter # TODO - assign the current letter to prev\n",
        "      \n",
        "        # return True -> because loop has completed\n",
        "        return True\n",
        "    "
      ]
    },
    {
      "cell_type": "code",
      "execution_count": 249,
      "metadata": {
        "id": "DTc7iOTDDXa4",
        "colab": {
          "base_uri": "https://localhost:8080/"
        },
        "outputId": "17171eec-5311-42d7-a265-4568e917d7c9"
      },
      "outputs": [
        {
          "output_type": "execute_result",
          "data": {
            "text/plain": [
              "True"
            ]
          },
          "metadata": {},
          "execution_count": 249
        }
      ],
      "source": [
        "word = 'agor'\n",
        "\n",
        "is_ordered_word(word)"
      ]
    },
    {
      "cell_type": "code",
      "execution_count": 250,
      "metadata": {
        "id": "G_BC4ijiDXa5",
        "colab": {
          "base_uri": "https://localhost:8080/"
        },
        "outputId": "2bbd0596-a963-41d0-be93-42dab6470c6f"
      },
      "outputs": [
        {
          "output_type": "execute_result",
          "data": {
            "text/plain": [
              "True"
            ]
          },
          "metadata": {},
          "execution_count": 250
        }
      ],
      "source": [
        "word = 'python'\n",
        "\n",
        "is_ordered_word(word)"
      ]
    },
    {
      "cell_type": "code",
      "execution_count": 219,
      "metadata": {
        "id": "Noy6aDH3DXa-"
      },
      "outputs": [],
      "source": [
        "word = 'hnty'\n",
        "\n",
        "is_ordered_word(word)"
      ]
    },
    {
      "cell_type": "markdown",
      "metadata": {
        "id": "buQwNGyFDXbA"
      },
      "source": [
        "**Exercise 10:**\n",
        "\n",
        "Use function in E9 to find out which Lorem words are ordered."
      ]
    },
    {
      "cell_type": "code",
      "execution_count": 256,
      "metadata": {
        "id": "uhSyublnDXbB"
      },
      "outputs": [],
      "source": [
        "def is_ordered_word_lorem():\n",
        "    \n",
        "    # read the file\n",
        "    # TODO - Read the words into a file\n",
        "    file = open('/content/words.txt')\n",
        "    for line in file:\n",
        "        \n",
        "        # split() -> \\n\n",
        "        # TODO - split the line\n",
        "      word_list = line.split()\n",
        "\n",
        "        # word is the first element in list\n",
        "        # TODO - get the first element of list\n",
        "      word = word_list[0]  \n",
        "        # convert into lower case\n",
        "        # TODO - convert the word into lower case\n",
        "      word = word.upper()  \n",
        "        # check if this word is an ordered word\n",
        "        # TODO - check if the word is an ordered word\n",
        "      if is_ordered_word(word):\n",
        "        print(word)  \n",
        "    "
      ]
    },
    {
      "cell_type": "code",
      "execution_count": 257,
      "metadata": {
        "id": "XUqZRmCnDXbC",
        "colab": {
          "base_uri": "https://localhost:8080/"
        },
        "outputId": "2b5f0bab-c2e4-4203-d2f0-3d017dd958ea"
      },
      "outputs": [
        {
          "output_type": "stream",
          "name": "stdout",
          "text": [
            "LOREM\n",
            "IPSUM\n",
            "DOLOR\n",
            "SIT\n",
            "AMET\n",
            "CONSECTETUR\n",
            "ADIPISCING\n",
            "ELIT\n",
            "NULLA\n",
            "SODALES\n",
            "ORCI\n",
            "SED\n",
            "NISL\n",
            "TEMPOR\n",
            "TRISTIQUE\n",
            "DONEC\n",
            "COMMODO\n",
            "NON\n",
            "LEO\n",
            "QUIS\n",
            "FERMENTUM\n",
            "VIVAMUS\n",
            "IN\n",
            "TORTOR\n",
            "VESTIBULUM\n",
            "DICTUM\n",
            "UT\n",
            "SAGITTIS\n",
            "AT\n",
            "CONVALLIS\n",
            "ALIQUAM\n",
            "ORNARE\n",
            "SUSCIPIT\n",
            "ELEIFEND\n",
            "CRAS\n",
            "FELIS\n",
            "PELLENTESQUE\n",
            "VULPUTATE\n",
            "FINIBUS\n",
            "METUS\n",
            "NUNC\n",
            "CONSEQUAT\n",
            "LAOREET\n",
            "IN\n",
            "DIAM\n",
            "EU\n",
            "HENDRERIT\n",
            "ULTRICES\n",
            "MI\n",
            "MAURIS\n",
            "DAPIBUS\n",
            "GRAVIDA\n",
            "TEMPUS\n",
            "VEL\n",
            "NISI\n",
            "ID\n",
            "LIBERO\n",
            "RUTRUM\n",
            "PRETIUM\n",
            "FEUGIAT\n",
            "PURUS\n",
            "VARIUS\n",
            "NATOQUE\n",
            "PENATIBUS\n",
            "ET\n",
            "MAGNIS\n",
            "DIS\n",
            "PARTURIENT\n",
            "MONTES\n",
            "NASCETUR\n",
            "RIDICULUS\n",
            "MUS\n",
            "PROIN\n",
            "POSUERE\n",
            "LIGULA\n",
            "RHONCUS\n",
            "AUGUE\n",
            "MOLLIS\n",
            "URNA\n",
            "DUI\n",
            "VENENATIS\n",
            "AC\n",
            "LACUS\n",
            "ACCUMSAN\n",
            "ARCU\n",
            "MOLESTIE\n",
            "TURPIS\n",
            "TINCIDUNT\n",
            "ANTE\n",
            "LOBORTIS\n",
            "MALESUADA\n",
            "RISUS\n",
            "NEQUE\n",
            "INTERDUM\n",
            "EX\n",
            "FAUCIBUS\n",
            "A\n",
            "TELLUS\n",
            "QUISQUE\n",
            "PULVINAR\n",
            "LUCTUS\n",
            "NAM\n",
            "VITAE\n",
            "PORTTITOR\n",
            "EROS\n",
            "ALIQUET\n",
            "EGESTAS\n",
            "MAGNA\n",
            "SOLLICITUDIN\n",
            "DIGNISSIM\n",
            "EST\n",
            "MORBI\n",
            "ELEMENTUM\n",
            "EUISMOD\n",
            "INTEGER\n",
            "FACILISIS\n",
            "SAPIEN\n",
            "IACULIS\n",
            "ERAT\n",
            "SESSE\n",
            "IMPERDIET\n",
            "NESNES\n",
            "VIVERRA\n",
            "SEMPER\n",
            "NIBH\n",
            "ENIM\n",
            "ODIO\n",
            "EGET\n",
            "EFFICITUR\n",
            "VELIT\n",
            "SEM\n",
            "BIBENDUM\n",
            "PRAESENT\n",
            "NEC\n",
            "SCELERISQUE\n",
            "LECTUS\n",
            "JUSTO\n",
            "CURABITUR\n",
            "FRIFIRRI\n",
            "AENEAN\n",
            "LACINIA\n",
            "MAECENAS\n",
            "HABITANT\n",
            "SENESSES\n",
            "NETUS\n",
            "FAMES\n",
            "CURSUS\n",
            "PHARETRA\n",
            "BLANDIT\n",
            "PHASELLUS\n",
            "ULLAMCORPER\n",
            "CONDIMENTUM\n",
            "PORTA\n",
            "MATTIS\n",
            "VEHICULA\n",
            "FUSCE\n",
            "ULTRICIES\n",
            "VOLUTPAT\n",
            "NULLAM\n",
            "PLACERAT\n",
            "QUAM\n",
            "SAASSA\n",
            "AUCTOR\n",
            "SUSPENDISSE\n",
            "MAXIMUS\n",
            "CONGUE\n",
            "HAC\n",
            "HABITASSE\n",
            "PLATEA\n",
            "DICTUMST\n",
            "TRYLYK\n",
            "ANTRYL\n"
          ]
        }
      ],
      "source": [
        "is_ordered_word_lorem()"
      ]
    },
    {
      "cell_type": "code",
      "execution_count": 258,
      "metadata": {
        "id": "Ck9Dm6wQDXbE",
        "colab": {
          "base_uri": "https://localhost:8080/"
        },
        "outputId": "06902712-eeef-4f21-934b-dc672a9c2b27"
      },
      "outputs": [
        {
          "output_type": "execute_result",
          "data": {
            "text/plain": [
              "True"
            ]
          },
          "metadata": {},
          "execution_count": 258
        }
      ],
      "source": [
        "word = 'Nam'\n",
        "\n",
        "is_ordered_word(word)"
      ]
    },
    {
      "cell_type": "code",
      "execution_count": 259,
      "metadata": {
        "id": "wPmhJZumDXbF",
        "colab": {
          "base_uri": "https://localhost:8080/"
        },
        "outputId": "96fd2c6b-99b9-4a6d-c291-a30e732008e9"
      },
      "outputs": [
        {
          "output_type": "execute_result",
          "data": {
            "text/plain": [
              "True"
            ]
          },
          "metadata": {},
          "execution_count": 259
        }
      ],
      "source": [
        "'N' < 'a'"
      ]
    },
    {
      "cell_type": "code",
      "execution_count": null,
      "metadata": {
        "id": "MlAy5dHzDXbG"
      },
      "outputs": [],
      "source": [
        ""
      ]
    }
  ],
  "metadata": {
    "kernelspec": {
      "display_name": "Python 3 (ipykernel)",
      "language": "python",
      "name": "python3"
    },
    "language_info": {
      "codemirror_mode": {
        "name": "ipython",
        "version": 3
      },
      "file_extension": ".py",
      "mimetype": "text/x-python",
      "name": "python",
      "nbconvert_exporter": "python",
      "pygments_lexer": "ipython3",
      "version": "3.9.7"
    },
    "colab": {
      "name": "Emmanuel_Ahmodu_Word_Assignment_2_Words.ipynb",
      "provenance": [],
      "collapsed_sections": [],
      "toc_visible": true
    }
  },
  "nbformat": 4,
  "nbformat_minor": 0
}